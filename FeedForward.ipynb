{
 "cells": [
  {
   "cell_type": "code",
   "execution_count": null,
   "id": "d869068b",
   "metadata": {},
   "outputs": [],
   "source": [
    "import os\n",
    "import cv2\n",
    "import random\n",
    "import numpy as np\n",
    "import tensorflow as tf\n",
    "import matplotlib.pyplot as plt\n",
    "from keras.preprocessing import image\n",
    "from keras.preprocessing.image import ImageDataGenerator\n",
    "from keras.models import Sequential\n",
    "from keras.layers import Dense, Flatten, Dropout\n",
    "from keras.utils import load_img, img_to_array"
   ]
  },
  {
   "cell_type": "code",
   "execution_count": 2,
   "id": "f7ff6d89",
   "metadata": {},
   "outputs": [
    {
     "name": "stdout",
     "output_type": "stream",
     "text": [
      "Found 80 images belonging to 2 classes.\n",
      "Found 20 images belonging to 2 classes.\n",
      "Found 20 images belonging to 1 classes.\n"
     ]
    }
   ],
   "source": [
    "batch_size = 8\n",
    "shape=100\n",
    "#augmentation for training\n",
    "train_datagen = ImageDataGenerator(\n",
    "        rotation_range=40,\n",
    "        rescale=1./255,\n",
    "        width_shift_range=0.2,\n",
    "        height_shift_range=0.2,\n",
    "        shear_range=0.2,\n",
    "        zoom_range=0.2,\n",
    "        horizontal_flip=True,\n",
    "        fill_mode='nearest',\n",
    "        validation_split=0.2)\n",
    "\n",
    "test_datagen = ImageDataGenerator(rescale=1./255)\n",
    "\n",
    "train_generator = train_datagen.flow_from_directory(\n",
    "        'C:\\\\Users\\\\Albatol Ihab\\\\project\\\\train',\n",
    "        target_size=(shape, shape),  \n",
    "        batch_size=batch_size,\n",
    "        class_mode='binary',\n",
    "        subset='training') \n",
    "\n",
    "valid_generator = train_datagen.flow_from_directory(\n",
    "    directory='C:\\\\Users\\\\Albatol Ihab\\\\project\\\\train',\n",
    "    target_size=(100, 100),\n",
    "    color_mode=\"rgb\",\n",
    "    batch_size=batch_size,\n",
    "    class_mode='binary',\n",
    "    subset='validation')\n",
    "\n",
    "test_generator = test_datagen.flow_from_directory(\n",
    "        'C:\\\\Users\\\\Albatol Ihab\\\\project\\\\test',\n",
    "        target_size=(shape, shape),\n",
    "        batch_size=batch_size,\n",
    "        class_mode=None)"
   ]
  },
  {
   "cell_type": "code",
   "execution_count": 3,
   "id": "0737ea39",
   "metadata": {},
   "outputs": [],
   "source": [
    "#building the model\n",
    "model = tf.keras.models.Sequential([\n",
    "  tf.keras.layers.Flatten(input_shape=(100, 100,3)),\n",
    "  tf.keras.layers.Dense(units=10, activation='relu'),\n",
    "  \n",
    "  tf.keras.layers.Dense(units=20, activation='relu'),\n",
    "  tf.keras.layers.Dense(units=35, activation='relu'),\n",
    "  tf.keras.layers.Dense(units=10, activation='relu'),  \n",
    "  tf.keras.layers.Dense(1, activation='sigmoid')\n",
    "])"
   ]
  },
  {
   "cell_type": "code",
   "execution_count": null,
   "id": "5179ae9d",
   "metadata": {},
   "outputs": [],
   "source": [
    "model.summary()"
   ]
  },
  {
   "cell_type": "code",
   "execution_count": 4,
   "id": "fba9deaf",
   "metadata": {},
   "outputs": [],
   "source": [
    "#Defining the loss function and optimzer\n",
    "loss= tf.losses.binary_crossentropy\n",
    "model.compile(loss=loss,optimizer=\"adam\",metrics=['accuracy'])"
   ]
  },
  {
   "cell_type": "code",
   "execution_count": 5,
   "id": "8e9228a3",
   "metadata": {},
   "outputs": [
    {
     "name": "stdout",
     "output_type": "stream",
     "text": [
      "Epoch 1/15\n",
      "10/10 [==============================] - 2s 93ms/step - loss: 0.7920 - accuracy: 0.5250 - val_loss: 0.7473 - val_accuracy: 0.5000\n",
      "Epoch 2/15\n",
      "10/10 [==============================] - 1s 59ms/step - loss: 0.6540 - accuracy: 0.6875 - val_loss: 0.7880 - val_accuracy: 0.5000\n",
      "Epoch 3/15\n",
      "10/10 [==============================] - 1s 52ms/step - loss: 0.5355 - accuracy: 0.8125 - val_loss: 0.5323 - val_accuracy: 0.8000\n",
      "Epoch 4/15\n",
      "10/10 [==============================] - 1s 77ms/step - loss: 0.4849 - accuracy: 0.8625 - val_loss: 0.4807 - val_accuracy: 0.8500\n",
      "Epoch 5/15\n",
      "10/10 [==============================] - 1s 64ms/step - loss: 0.3847 - accuracy: 0.8250 - val_loss: 0.3941 - val_accuracy: 0.8500\n",
      "Epoch 6/15\n",
      "10/10 [==============================] - 1s 52ms/step - loss: 0.3028 - accuracy: 0.9375 - val_loss: 0.4785 - val_accuracy: 0.7500\n",
      "Epoch 7/15\n",
      "10/10 [==============================] - 1s 52ms/step - loss: 0.2740 - accuracy: 0.8875 - val_loss: 0.4399 - val_accuracy: 0.8500\n",
      "Epoch 8/15\n",
      "10/10 [==============================] - 2s 172ms/step - loss: 0.2124 - accuracy: 0.9125 - val_loss: 0.5502 - val_accuracy: 0.7000\n",
      "Epoch 9/15\n",
      "10/10 [==============================] - 1s 62ms/step - loss: 0.3086 - accuracy: 0.8500 - val_loss: 0.3333 - val_accuracy: 0.8500\n",
      "Epoch 10/15\n",
      "10/10 [==============================] - 1s 53ms/step - loss: 0.2175 - accuracy: 0.9000 - val_loss: 0.4241 - val_accuracy: 0.8500\n",
      "Epoch 11/15\n",
      "10/10 [==============================] - 1s 53ms/step - loss: 0.1401 - accuracy: 0.9750 - val_loss: 0.3931 - val_accuracy: 0.8500\n",
      "Epoch 12/15\n",
      "10/10 [==============================] - 1s 55ms/step - loss: 0.1846 - accuracy: 0.9625 - val_loss: 0.3367 - val_accuracy: 0.8500\n",
      "Epoch 13/15\n",
      "10/10 [==============================] - 1s 56ms/step - loss: 0.1438 - accuracy: 0.9500 - val_loss: 0.4000 - val_accuracy: 0.9000\n",
      "Epoch 14/15\n",
      "10/10 [==============================] - 1s 54ms/step - loss: 0.0852 - accuracy: 0.9875 - val_loss: 0.6924 - val_accuracy: 0.7000\n",
      "Epoch 15/15\n",
      "10/10 [==============================] - 1s 55ms/step - loss: 0.1297 - accuracy: 0.9625 - val_loss: 0.3136 - val_accuracy: 0.8500\n"
     ]
    }
   ],
   "source": [
    "#Training the model\n",
    "history=model.fit(\n",
    "        train_generator,\n",
    "        epochs=15,\n",
    "        validation_data=valid_generator,\n",
    "        steps_per_epoch = train_generator.n//train_generator.batch_size) "
   ]
  },
  {
   "cell_type": "code",
   "execution_count": 6,
   "id": "12a4d210",
   "metadata": {},
   "outputs": [],
   "source": [
    "#model.save('feed.h5') "
   ]
  },
  {
   "cell_type": "code",
   "execution_count": null,
   "id": "717a4fbc",
   "metadata": {},
   "outputs": [],
   "source": [
    "print(history.history.keys())"
   ]
  },
  {
   "cell_type": "code",
   "execution_count": 7,
   "id": "b8fede83",
   "metadata": {},
   "outputs": [
    {
     "data": {
      "text/plain": [
       "<matplotlib.legend.Legend at 0x2063344da30>"
      ]
     },
     "execution_count": 7,
     "metadata": {},
     "output_type": "execute_result"
    },
    {
     "data": {
      "image/png": "[encoded data removed]",
      "text/plain": [
       "<Figure size 432x288 with 1 Axes>"
      ]
     },
     "metadata": {
      "needs_background": "light"
     },
     "output_type": "display_data"
    }
   ],
   "source": [
    "# Make a plot for the loss\n",
    "plt.xlabel('Epoch Number')\n",
    "plt.ylabel(\"Loss Magnitude\")\n",
    "plt.plot(history.history['loss'])\n",
    "plt.plot(history.history['val_loss'])\n",
    "plt.legend(['training', 'validatation'])"
   ]
  },
  {
   "cell_type": "code",
   "execution_count": 8,
   "id": "5ab2ff68",
   "metadata": {},
   "outputs": [
    {
     "data": {
      "text/plain": [
       "<matplotlib.legend.Legend at 0x2063349bc40>"
      ]
     },
     "execution_count": 8,
     "metadata": {},
     "output_type": "execute_result"
    },
    {
     "data": {
      "image/png": "[encoded data removed]",
      "text/plain": [
       "<Figure size 432x288 with 1 Axes>"
      ]
     },
     "metadata": {
      "needs_background": "light"
     },
     "output_type": "display_data"
    }
   ],
   "source": [
    "# Make a plot for the accuracy\n",
    "plt.xlabel('Epoch Number')\n",
    "plt.ylabel(\"Accuracy\")\n",
    "plt.plot(history.history['accuracy'])\n",
    "plt.plot(history.history['val_accuracy'])\n",
    "plt.legend(['training', 'validatation'])"
   ]
  },
  {
   "cell_type": "code",
   "execution_count": null,
   "id": "be9adb23",
   "metadata": {},
   "outputs": [],
   "source": [
    "#Loading testing images for prediction and display it with its label\n",
    "test_image = load_img('C:\\\\Users\\\\Albatol Ihab\\\\project\\\\test\\\\predict\\\\20230602_150203.jpg', target_size = (shape, shape))\n",
    "plt.imshow(test_image)\n",
    "plt.show()\n",
    "test_image = img_to_array(test_image)\n",
    "test_image = np.expand_dims(test_image, axis = 0)\n",
    "result = model.predict(test_image)\n",
    "if result <0.5:\n",
    "    print('Apple')\n",
    "elif result > 0.5:\n",
    "    print('banana')\n",
    "else: \n",
    "    print('none')"
   ]
  },
  {
   "cell_type": "code",
   "execution_count": null,
   "id": "f4b9f794",
   "metadata": {},
   "outputs": [],
   "source": [
    "# Open the camera\n",
    "vid = cv2.VideoCapture(0)\n",
    "print(\"Camera connection successfully established\")\n",
    "\n",
    "while(True):  \n",
    "    # Capture the frame from camera\n",
    "    r, frame = vid.read() \n",
    "    cv2.imshow('frame', frame)\n",
    "    \n",
    "    # Save the frame to disk\n",
    "    cv2.imwrite('C:\\\\Users\\\\Albatol Ihab\\\\project\\\\preview.jpg', frame)\n",
    "    \n",
    "    # Load the saved image and preprocess it\n",
    "    test_image = load_img('C:\\\\Users\\\\Albatol Ihab\\\\project\\\\preview.jpg', target_size = (shape, shape))\n",
    "    test_image = img_to_array(test_image)\n",
    "    test_image = np.expand_dims(test_image, axis = 0)\n",
    "    result = model.predict(test_image)\n",
    "    \n",
    "    # Get the predicted label and draw a bounding box around the object\n",
    "    label = \"\"\n",
    "    if result[0][0] >0.5:\n",
    "        print(\"I saw a banana\")\n",
    "        label = \"banana\"\n",
    "        color = (0, 255, 0)  # green color for banana\n",
    "    elif result[0][0] < 0.5:\n",
    "        print(\"I saw an apple\")\n",
    "        label = \"apple\"\n",
    "        color = (0, 0, 255)  # red color for apple\n",
    "    else:\n",
    "        label = \"unknown\"\n",
    "        color = (255, 0, 0)  # blue color for unknown object\n",
    "        \n",
    "    # Get the coordinates of the object in the image\n",
    "    gray = cv2.cvtColor(frame, cv2.COLOR_BGR2GRAY)\n",
    "    gray = cv2.GaussianBlur(gray, (7, 7), 0)\n",
    "    edged = cv2.Canny(gray, 50, 150)\n",
    "    contours, hierarchy = cv2.findContours(edged, cv2.RETR_EXTERNAL, cv2.CHAIN_APPROX_SIMPLE)\n",
    "    \n",
    "    # Draw the bounding box and label on the frame\n",
    "    for c in contours:\n",
    "        x, y, w, h = cv2.boundingRect(c)\n",
    "        if w > 20 and h > 20:\n",
    "            cv2.putText(frame, label,(10, 30), cv2.FONT_HERSHEY_SIMPLEX, 1, color, 2, cv2.LINE_AA)\n",
    "            cv2.rectangle(frame, (x, y), (x + w, y + h), color, 2)\n",
    "            break\n",
    "    \n",
    "    cv2.imshow('frame', frame)\n",
    "    \n",
    "    # Remove the saved image from disk\n",
    "    os.remove('C:\\\\Users\\\\Albatol Ihab\\\\project\\\\preview.jpg')\n",
    "    \n",
    "    # Exit the loop if 'q' is pressed\n",
    "    if cv2.waitKey(1) & 0xFF == ord('q'): \n",
    "        break\n",
    "\n",
    "# Release the camera and close all windows\n",
    "vid.release() \n",
    "cv2.destroyAllWindows()"
   ]
  }
 ],
 "metadata": {
  "kernelspec": {
   "display_name": "Python 3 (ipykernel)",
   "language": "python",
   "name": "python3"
  },
  "language_info": {
   "codemirror_mode": {
    "name": "ipython",
    "version": 3
   },
   "file_extension": ".py",
   "mimetype": "text/x-python",
   "name": "python",
   "nbconvert_exporter": "python",
   "pygments_lexer": "ipython3",
   "version": "3.9.7"
  }
 },
 "nbformat": 4,
 "nbformat_minor": 5
}
